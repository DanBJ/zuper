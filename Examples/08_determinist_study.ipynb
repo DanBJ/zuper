{
 "cells": [
  {
   "cell_type": "markdown",
   "id": "d3005da3-16ac-47b5-bbcc-bfedc68f5a69",
   "metadata": {},
   "source": [
    "## Étude déterministe pour délimiter une aire d'alimentation"
   ]
  },
  {
   "cell_type": "markdown",
   "id": "aee2ddea-1433-48c9-b711-d8720d2d6c0f",
   "metadata": {},
   "source": []
  },
  {
   "cell_type": "code",
   "execution_count": null,
   "id": "b4aeae29-b169-4392-8b9d-ee7172da3e7b",
   "metadata": {},
   "outputs": [],
   "source": []
  }
 ],
 "metadata": {
  "kernelspec": {
   "display_name": "Python 3 (ipykernel)",
   "language": "python",
   "name": "python3"
  },
  "language_info": {
   "codemirror_mode": {
    "name": "ipython",
    "version": 3
   },
   "file_extension": ".py",
   "mimetype": "text/x-python",
   "name": "python",
   "nbconvert_exporter": "python",
   "pygments_lexer": "ipython3",
   "version": "3.12.1"
  }
 },
 "nbformat": 4,
 "nbformat_minor": 5
}
