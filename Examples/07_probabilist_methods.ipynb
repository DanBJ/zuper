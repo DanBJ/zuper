{
 "cells": [
  {
   "cell_type": "markdown",
   "id": "6f10c5ee-b765-4c7e-9bb2-1d0afe6f6b44",
   "metadata": {},
   "source": [
    "## Méthodes probabilistes utilisées et retrouvés dans le programme ZuPer"
   ]
  },
  {
   "cell_type": "markdown",
   "id": "156fbe65-0be6-4162-93be-2398cdb3d701",
   "metadata": {},
   "source": []
  },
  {
   "cell_type": "markdown",
   "id": "6738829a-0f79-4246-9af3-e113f4477516",
   "metadata": {},
   "source": [
    "### Simulation séquentielle gausienne (SGS)"
   ]
  },
  {
   "cell_type": "markdown",
   "id": "5bb6eaa4-94f5-49eb-9707-33ff957935ce",
   "metadata": {},
   "source": []
  },
  {
   "cell_type": "code",
   "execution_count": 2,
   "id": "437d624e-3c03-4ae7-b263-4219b7bacb80",
   "metadata": {},
   "outputs": [],
   "source": [
    "def simulation_sgs(self, nx, ny, x, v, mu, std, seed=None):\n",
    "    if x is None:\n",
    "        return gn.geosclassicinterface.simulate2D(self.cov, (nx, ny), (self.dx, self.dy), (self.ox, self.oy), x = x*np.array([self.dx, self.dy]), v = v, mean=mu, var=std**2, seed=seed, verbose=0)['image'].val[0][0]\n",
    "        \n",
    "    return gn.geosclassicinterface.simulate2D(self.cov, (nx, ny), (self.dx, self.dy), (self.ox, self.oy), x = x*np.array([self.dx,self.dy]), v = v, mean=mu, var=std**2, seed=seed, verbose=0)['image'].val[0][0]"
   ]
  },
  {
   "cell_type": "markdown",
   "id": "d2267758-379d-48d6-b729-ff5935ec7821",
   "metadata": {},
   "source": [
    "### Méthode du Bootstrap"
   ]
  },
  {
   "cell_type": "markdown",
   "id": "89c987c0-1715-4e87-8373-e298e8f94c4c",
   "metadata": {},
   "source": []
  },
  {
   "cell_type": "code",
   "execution_count": 4,
   "id": "b66d369e-9b6b-4092-93b6-699ef9753902",
   "metadata": {},
   "outputs": [],
   "source": [
    "def bootstrap_intervalle_conf(self, data, niter, func):\n",
    "    m = np.zeros(niter)\n",
    "    for i in range(niter):\n",
    "        bootstrap_echantillon = np.random.choice(data, len(data), replace=True)\n",
    "        m[i] = func(bootstrap_echantillon, axis=None)\n",
    "\n",
    "    return m[0]"
   ]
  }
 ],
 "metadata": {
  "kernelspec": {
   "display_name": "Python 3 (ipykernel)",
   "language": "python",
   "name": "python3"
  },
  "language_info": {
   "codemirror_mode": {
    "name": "ipython",
    "version": 3
   },
   "file_extension": ".py",
   "mimetype": "text/x-python",
   "name": "python",
   "nbconvert_exporter": "python",
   "pygments_lexer": "ipython3",
   "version": "3.12.1"
  }
 },
 "nbformat": 4,
 "nbformat_minor": 5
}
