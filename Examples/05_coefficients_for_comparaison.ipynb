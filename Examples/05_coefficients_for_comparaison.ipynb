{
 "cells": [
  {
   "cell_type": "markdown",
   "id": "49997806-f594-46fb-86ec-bc426338063a",
   "metadata": {},
   "source": [
    "## Les coefficients pour la comparaison des aires d'alimentation"
   ]
  },
  {
   "cell_type": "markdown",
   "id": "9c742b28-10a8-4a73-bc40-5210e276b4b6",
   "metadata": {},
   "source": []
  },
  {
   "cell_type": "markdown",
   "id": "f1809f40-aa99-48cf-9187-23f9e45b22a3",
   "metadata": {},
   "source": [
    "#### $\\tau$ : Le nombre de noeuds d'une aire d'alimentation"
   ]
  },
  {
   "cell_type": "code",
   "execution_count": null,
   "id": "d6428e5f-0c39-4b71-87f7-ef62e02ff90e",
   "metadata": {},
   "outputs": [],
   "source": []
  },
  {
   "cell_type": "code",
   "execution_count": null,
   "id": "da72a3f6-020e-4143-94f2-011a52e731c4",
   "metadata": {},
   "outputs": [],
   "source": []
  },
  {
   "cell_type": "markdown",
   "id": "a3e55f01-79df-4c1e-b469-4b4c79cedcfc",
   "metadata": {},
   "source": [
    "#### $A_{zu}$ : La surface d'une aire d'alimentation"
   ]
  },
  {
   "cell_type": "code",
   "execution_count": null,
   "id": "07d3a851-ef2c-4520-960f-f996809153e1",
   "metadata": {},
   "outputs": [],
   "source": []
  },
  {
   "cell_type": "code",
   "execution_count": null,
   "id": "e564ff0b-dcb3-40c8-95a2-74ca0eadda22",
   "metadata": {},
   "outputs": [],
   "source": []
  },
  {
   "cell_type": "markdown",
   "id": "38135b68-6ad0-4ad9-ae2c-349f1d92c38f",
   "metadata": {},
   "source": [
    "#### $\\eta$ : Le coefficient d'efficacité"
   ]
  },
  {
   "cell_type": "code",
   "execution_count": null,
   "id": "0fb753b7-9b67-4e1b-9b02-f689d7dc25a0",
   "metadata": {},
   "outputs": [],
   "source": []
  },
  {
   "cell_type": "code",
   "execution_count": null,
   "id": "1bd57409-d7ff-44a7-aebd-0aae2d971bb6",
   "metadata": {},
   "outputs": [],
   "source": []
  }
 ],
 "metadata": {
  "kernelspec": {
   "display_name": "Python 3 (ipykernel)",
   "language": "python",
   "name": "python3"
  },
  "language_info": {
   "codemirror_mode": {
    "name": "ipython",
    "version": 3
   },
   "file_extension": ".py",
   "mimetype": "text/x-python",
   "name": "python",
   "nbconvert_exporter": "python",
   "pygments_lexer": "ipython3",
   "version": "3.12.1"
  }
 },
 "nbformat": 4,
 "nbformat_minor": 5
}
