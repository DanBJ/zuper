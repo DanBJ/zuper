{
 "cells": [
  {
   "cell_type": "markdown",
   "id": "ab8a9dbd-df36-4b25-b186-697c2f73daac",
   "metadata": {},
   "source": [
    "## Étude stochastique pour délimiter une aire d'alimentation"
   ]
  },
  {
   "cell_type": "markdown",
   "id": "85cca319-581d-4f3f-ac46-876286502fba",
   "metadata": {},
   "source": []
  },
  {
   "cell_type": "code",
   "execution_count": null,
   "id": "aa2950fe-d288-442d-83a1-9697cee743aa",
   "metadata": {},
   "outputs": [],
   "source": []
  }
 ],
 "metadata": {
  "kernelspec": {
   "display_name": "Python 3 (ipykernel)",
   "language": "python",
   "name": "python3"
  },
  "language_info": {
   "codemirror_mode": {
    "name": "ipython",
    "version": 3
   },
   "file_extension": ".py",
   "mimetype": "text/x-python",
   "name": "python",
   "nbconvert_exporter": "python",
   "pygments_lexer": "ipython3",
   "version": "3.12.1"
  }
 },
 "nbformat": 4,
 "nbformat_minor": 5
}
