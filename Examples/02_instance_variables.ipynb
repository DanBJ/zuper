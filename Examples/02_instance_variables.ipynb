{
 "cells": [
  {
   "cell_type": "markdown",
   "id": "86a6bc36-4f2d-4dc5-9787-68d4475564f6",
   "metadata": {},
   "source": [
    "## Les instances de classe du programme ZuPer"
   ]
  },
  {
   "cell_type": "markdown",
   "id": "13ede3d0-5576-4d21-8fbd-2f1d227bea46",
   "metadata": {},
   "source": [
    "Dans la classe du programme informatique ZuPer, nous retrouvons sept types de variables classées en fonctions de leurs utilisations pour faire les calculs. Nous retrouvons les :\n",
    "\n",
    "<ol>\n",
    "    <li>Variables pour stocker le fichier Feflow.</li>\n",
    "    <li>Variables pour les propriétés du maillage utilisé et retrouvé dans le fichier Feflow.</li>\n",
    "    <li>Variables pour calculer les coefficients pour la comparaison des résultats.</li>\n",
    "    <li>Variables pour stocker les champs de valeurs des paramètres (conductivité hydraulique et recharge en eau souterraine).</li>\n",
    "    <li>Variables pour caractériser le type de variogramme utilisé dans les simulations aléatoires des champs de paramètres.</li>\n",
    "    <li>Variables pour stocker les résultats</li>\n",
    "    <li>Variables pour l'affichage des graphes</li>\n",
    "</ol>\n",
    "\n",
    "Nous allons discuter de ces différents groupes les uns après les autres. Commençons d'abord par créer notre objet zuper contenant ici les instances de classe et la description des premiers paramètres :"
   ]
  },
  {
   "cell_type": "code",
   "execution_count": 3,
   "id": "ec015470-ffee-4a1e-ad55-df3d50162b6a",
   "metadata": {},
   "outputs": [
    {
     "name": "stdout",
     "output_type": "stream",
     "text": [
      "Object created !\n"
     ]
    }
   ],
   "source": [
    "import numpy as np\n",
    "import matplotlib.pyplot as plt\n",
    "import ifm as ifm\n",
    "\n",
    "import geone as gn\n",
    "import pandas as pds\n",
    "import scipy as sp\n",
    "import geopandas as gpd\n",
    "\n",
    "from scipy.stats import gmean\n",
    "from tqdm import tqdm\n",
    "from matplotlib import cm\n",
    "from matplotlib.colors import ListedColormap\n",
    "from scipy import interpolate\n",
    "from scipy.integrate import solve_ivp\n",
    "from scipy.optimize import root_scalar\n",
    "from shapely.geometry import Polygon\n",
    "from scipy.optimize import minimize\n",
    "\n",
    "class zuper:\n",
    "\n",
    "    #####################\n",
    "    # Instance variable #\n",
    "    #####################\n",
    "\n",
    "    # variable of the Feflow file\n",
    "    global doc\n",
    "\n",
    "    # variables of the mesh from doc\n",
    "    global nnodes, nelements, nbx_nd, nby_nd, nbx_el, nby_el, xmin, xmax, ymin, ymax, x, y, dx, dy, s, ox, oy, qw, xw, yw, id_well, id_well_mesh\n",
    "    \n",
    "    # variables of coefficients\n",
    "    global n, a_zu, tau\n",
    "\n",
    "    # variables of parameters\n",
    "    global r_matrix, k_matrix, r_mean, k_mean, b, poro\n",
    "\n",
    "    # lists to save position and values for conditionning case\n",
    "    pos_cond, val_cond = [], []\n",
    "\n",
    "    # variables from covariance model\n",
    "    el = [('spherical', {'w':0.25, 'r':[1300, 1300]})]\n",
    "    alpha = 0\n",
    "\n",
    "    # dictionnaries and dataFrames to save results\n",
    "    dict_params = {'perm':[], 'rech':[]}\n",
    "    dict_results = {'charge':[], 'age':[], 'exit-time':[], 'probability':[], 'contributions':[], 'zu':[]}\n",
    "    name_params = ['perm', 'rech']\n",
    "    name_results = ['charge', 'age', 'meanlife', 'probability', 'contributions', 'zu', 'concentration_cr', 'concentration_cm']\n",
    "    dtframe_constant = pds.DataFrame([])\n",
    "    \n",
    "    # parameters for graphs\n",
    "    cmap = [cm.viridis, cm.viridis, cm.Oranges, cm.Reds, cm.Blues, cm.Greens, cm.Greys, cm.plasma, cm.viridis, cm.viridis]\n",
    "    title = ['permeability', 'recharge', 'charge', 'age', 'exit-time', 'capture probabilities', 'contributions', 'zone Zu', 'Concentration de masse Cr', 'Concentration de masse Cm']\n",
    "    unity = ['[-]', '[m/d]', '[m]', '[d]', '[d]', '[-]', '[m3/d]', '[-]', '[mg/L]', '[mg/L]']\n",
    "    symb = [r'$\\eta$ [%]', r'$a_{zu}$ [hect]', r'$c_{m}$ [mg/L]', r'$\\rho$ [%]', r'c_{r} [mg/L]']\n",
    "    name_coeff = ['Coefficient of efficiency', 'Surface of Zu', 'Concentration Cm', 'Ratio protection', 'Concentration Cr']    \n",
    "    \n",
    "    def __init__(self, url_file):\n",
    "        '''\n",
    "        -------------------------------------------------------\n",
    "        \n",
    "        Aim : Function which initiate all the important\n",
    "        parameters (for Feflow file, for mesh parameters, etc)\n",
    "        by creating a Python Object\n",
    "        \n",
    "        -------------------------------------------------------\n",
    "        \n",
    "        Valeur input : \n",
    "            - url_file : rawstring of URL Feflow file [-]\n",
    "            \n",
    "        Valeur output :\n",
    "            - initialised parameters\n",
    "            \n",
    "        -------------------------------------------------------\n",
    "        '''\n",
    "        \n",
    "        #get feflow file\n",
    "        self.doc = ifm.loadDocument(url_file)\n",
    "        \n",
    "        #get number of nodes and elements of mesh\n",
    "        self.nnodes = self.doc.getNumberOfNodes()\n",
    "        self.nelements = self.doc.getNumberOfElements()\n",
    "        \n",
    "        #get parameters of the mesh\n",
    "        self.x, self.y = np.zeros((self.nnodes,)), np.zeros((self.nnodes,))\n",
    "        for i in range(self.nnodes):\n",
    "            self.x[i] = self.doc.getX(i)\n",
    "            self.y[i] = self.doc.getY(i)\n",
    "    \n",
    "        self.xmin, self.xmax, self.ymin, self.ymax = np.min(self.x), np.max(self.x), np.min(self.y), np.max(self.y)\n",
    "        self.dx = self.x[1] - self.x[0]\n",
    "        self.nbx_el = int(np.round( (self.xmax - self.xmin)/self.dx ))\n",
    "        self.dy = self.y[0] - self.y[self.nbx_el + 1]\n",
    "        self.nby_el = int(np.round( (self.ymax - self.ymin)/self.dy ))\n",
    "        self.s = self.dx*self.dy\n",
    "        self.nbx_nd, self.nby_nd = self.nbx_el + 1, self.nby_el + 1\n",
    "        self.ox, self.oy = self.doc.getOriginX(), self.doc.getOriginY()\n",
    "        self.qw = float( str( self.doc.createWellManager().getWells()[0].getPropertyValue(8) ).split('[')[0] )\n",
    "        self.xw = int(float(str(self.doc.createWellManager().getWells()[0].getPropertyValue(3)).split(' ')[0]))\n",
    "        self.yw = int(float(str(self.doc.createWellManager().getWells()[0].getPropertyValue(4)).split(' ')[0]))        \n",
    "        \n",
    "        for i in range(self.nnodes):\n",
    "            if int( self.x[i] ) == self.xw and int( self.y[i] ) == self.yw:\n",
    "                self.id_well = i\n",
    "\n",
    "        self.x.shape = (self.nby_nd, self.nbx_nd)\n",
    "        self.y.shape = (self.nby_nd, self.nbx_nd)\n",
    "\n",
    "        for i in range(287):\n",
    "            for j in range(123):\n",
    "                if int(self.x[i][j])==int(self.xw) and int(self.y[i][j])==int(self.yw):\n",
    "                    self.id_well_mesh = [i,j]\n",
    "\n",
    "        print(\"Object created !\")\n",
    "\n",
    "    def get_params(self):\n",
    "        '''\n",
    "        -------------------------------------------------------\n",
    "        \n",
    "        Aim : Function which get the refered matrix\n",
    "        parameters and refered mean values of source term\n",
    "        and hydraulic conductivity\n",
    "        \n",
    "        -------------------------------------------------------\n",
    "        \n",
    "        Valeur input : \n",
    "            - nothing\n",
    "            \n",
    "        Valeur output :\n",
    "            - nothing\n",
    "            \n",
    "        -------------------------------------------------------\n",
    "        '''\n",
    "\n",
    "        # initialisation of the covariance model and define a reference random field array for hydraulic conductivity\n",
    "        cov_mod = gn.covModel.CovModel2D(self.el, self.alpha, 'title')\n",
    "        geosclassic_output = gn.geosclassicinterface.simulate2D(cov_mod, (self.nbx_nd, self.nby_nd), (self.dx, self.dy), (self.ox, self.oy), \n",
    "                                                                mean=1.8, var=0.5**2,\n",
    "                                                                method='simple_kriging', \n",
    "                                                                searchRadiusRelative=1.0, nneighborMax=12,\n",
    "                                                                nreal=1, seed=8948474, verbose=0)\n",
    "\n",
    "        # save the refence random field  \n",
    "        self.k_matrix = geosclassic_output['image'].val[0][0]\n",
    "\n",
    "        # define a reference random field array for groundwater recharge (or source/sink)\n",
    "        geosclassic_output = gn.geosclassicinterface.simulate2D(cov_mod, (self.nbx_nd, self.nby_nd), (self.dx, self.dy), (self.ox, self.oy), \n",
    "                                                                mean=400, var=15**2,\n",
    "                                                                method='simple_kriging', \n",
    "                                                                searchRadiusRelative=1.0, nneighborMax=12,\n",
    "                                                                nreal=1, seed=7528660, verbose=0)\n",
    "\n",
    "        # save the reference random field\n",
    "        self.r_matrix = geosclassic_output['image'].val[0][0]/365/1000\n",
    "        \n",
    "        # save the mean values of hydraulic conductivity (k_mean), groundwater recharge (r_mean), thickness (b), porosity (poro)\n",
    "        self.k_mean = gmean(self.k_matrix, axis=None)\n",
    "        self.r_mean = np.mean(self.r_matrix, axis=None)\n",
    "        self.b = self.doc.getParamValue(108, 0) - self.doc.getParamValue(106, 0)\n",
    "        self.poro = self.doc.getParamValue(201, 0)\n",
    "\n",
    "data = zuper(r'C:\\zuper\\final_case.fem')"
   ]
  },
  {
   "cell_type": "markdown",
   "id": "fea7768a-9475-46ea-9de7-0d2f3e5a2e1e",
   "metadata": {
    "jp-MarkdownHeadingCollapsed": true
   },
   "source": [
    "-----------------------------------------------------------------------------------------------------------------------------------------------------------"
   ]
  },
  {
   "cell_type": "markdown",
   "id": "58bf3df5-546f-4e3f-ae15-fbc5f44ff7fd",
   "metadata": {},
   "source": [
    "#### 1. Variables pour stocker le fichier Feflow"
   ]
  },
  {
   "cell_type": "markdown",
   "id": "ef42a9cc-5227-4ec8-8069-3b34c2e8a060",
   "metadata": {},
   "source": [
    "Le premier groupe est constituté de la variable <b>doc</b> utilisé pour stocker toutes les informations qui caractérise le fichier Feflow. Il permet alors de se balader dans les propriétés du fichier pour ensuite changer et manipuler les options à notre guise."
   ]
  },
  {
   "cell_type": "code",
   "execution_count": 4,
   "id": "34dcc723-a618-4b44-9671-c204cf57d439",
   "metadata": {},
   "outputs": [
    {
     "data": {
      "text/plain": [
       "\n",
       "[ IFM FEM document ]\n",
       "  file path:      C:\\zuper\\final_case.fem\n",
       "  file version:   8.1.0.21090\n",
       "  file type:      BINARY\n",
       "  description:    ''\n",
       "  problem class:  saturated flow and mass transport with age process\n",
       "  projection:     phreatic (2D)\n",
       "  time class:     transient/transient\n",
       "  mesh:           ndm=2,np=35301,ne=34892,quadrangles\n",
       "  extent:         1000,1000 -> 4000,8000\n",
       "Supermesh: \n",
       "  mesh:           nelems=1,nnodes=8,npoly=1,nlines=0,npoints=0"
      ]
     },
     "execution_count": 4,
     "metadata": {},
     "output_type": "execute_result"
    }
   ],
   "source": [
    "data.doc"
   ]
  },
  {
   "cell_type": "markdown",
   "id": "7b3bad45-b82f-4ec8-928f-bc68e8c6c6df",
   "metadata": {},
   "source": [
    "Cette variable est donc la racine du fichier Feflow initialisé dans le programme informatique ZuPer, et est obtenue en utilisant la méthode <b>ifm.loadDocument</b> en utilisant l'url du fichier Feflow de la manière suivante :"
   ]
  },
  {
   "cell_type": "code",
   "execution_count": 7,
   "id": "1489053c-f99e-49cc-ba72-2e4f2e0c9b36",
   "metadata": {},
   "outputs": [],
   "source": [
    "doc = ifm.loadDocument(r'C:\\zuper\\final_case.fem')"
   ]
  },
  {
   "cell_type": "markdown",
   "id": "95207216-dd1f-4a7a-b235-9a00592d6303",
   "metadata": {},
   "source": [
    "#### 2. Variables pour les propriétés du maillage utilisé et retrouvé dans le fichier Feflow"
   ]
  },
  {
   "cell_type": "markdown",
   "id": "d0fb5941-1b27-4979-a6e3-3004c47fdaea",
   "metadata": {},
   "source": [
    "Ensuite, nous avons le groupe de variables comprenant les propriétés du maillage trouvable dans le fichier Feflow à partir de la variable <b>doc</b>"
   ]
  },
  {
   "cell_type": "code",
   "execution_count": 47,
   "id": "b8916ac8-0007-4570-a068-cf3c517ee896",
   "metadata": {},
   "outputs": [
    {
     "name": "stdout",
     "output_type": "stream",
     "text": [
      "Nombre de noeuds : 35301\n",
      "Nombre d'éléments : 34892 \n",
      "\n",
      "Valeur minimum en axe x : 999.9999999999998\n",
      "Valeur maximum en axe x : 4000.000000000001\n",
      "Valeur minimum en axe y : 999.9999999999993\n",
      "Valeur maximum en axe y : 8000.000000000002 \n",
      "\n",
      "Nombre de noeuds en axe x : 123\n",
      "Nombre de noeuds en axe y : 287\n",
      "Nombre d'éléments en axe x : 122\n",
      "Nombre d'éléments en axe y : 286 \n",
      "\n",
      "Espace entre les noeuds pour l'axe x : 24.590163934425846\n",
      "Espace entre les noeuds pour l'axe y : 24.475524475524253 \n",
      "\n",
      "Aire d'un élément : 601.8571592341935 \n",
      "\n",
      "Origine en axe x : 0.0\n",
      "Origine en axe y : 0.0 \n",
      "\n",
      "Origine du puits en axe x : 2524\n",
      "Origine du puits en axe y : 1856 \n",
      "\n",
      "Id du puits dans une liste de valeur : 30935\n",
      "Id du puits dans une matrice pour l'axe x : 251\n",
      "Id du puits dans une matrice pour l'axe y : 62 \n",
      "\n",
      "Matrice de coordonnées de l'axe x :\n",
      "\n",
      " [[1000.         1024.59016393 1049.18032787 ... 3950.81967213\n",
      "  3975.40983607 4000.        ]\n",
      " [1000.         1024.59016393 1049.18032787 ... 3950.81967213\n",
      "  3975.40983607 4000.        ]\n",
      " [1000.         1024.59016393 1049.18032787 ... 3950.81967213\n",
      "  3975.40983607 4000.        ]\n",
      " ...\n",
      " [1000.         1024.59016393 1049.18032787 ... 3950.81967213\n",
      "  3975.40983607 4000.        ]\n",
      " [1000.         1024.59016393 1049.18032787 ... 3950.81967213\n",
      "  3975.40983607 4000.        ]\n",
      " [1000.         1024.59016393 1049.18032787 ... 3950.81967213\n",
      "  3975.40983607 4000.        ]] \n",
      "\n",
      "Matrice de coordonnées de l'axe y :\n",
      " [[8000.         8000.         8000.         ... 8000.\n",
      "  8000.         8000.        ]\n",
      " [7975.52447552 7975.52447552 7975.52447552 ... 7975.52447552\n",
      "  7975.52447552 7975.52447552]\n",
      " [7951.04895105 7951.04895105 7951.04895105 ... 7951.04895105\n",
      "  7951.04895105 7951.04895105]\n",
      " ...\n",
      " [1048.95104895 1048.95104895 1048.95104895 ... 1048.95104895\n",
      "  1048.95104895 1048.95104895]\n",
      " [1024.47552448 1024.47552448 1024.47552448 ... 1024.47552448\n",
      "  1024.47552448 1024.47552448]\n",
      " [1000.         1000.         1000.         ... 1000.\n",
      "  1000.         1000.        ]]\n"
     ]
    }
   ],
   "source": [
    "print(\"Nombre de noeuds :\", data.nnodes)\n",
    "print(\"Nombre d'éléments :\", data.nelements, \"\\n\")\n",
    "print(\"Valeur minimum en axe x :\", data.xmin)\n",
    "print(\"Valeur maximum en axe x :\", data.xmax)\n",
    "print(\"Valeur minimum en axe y :\", data.ymin)\n",
    "print(\"Valeur maximum en axe y :\", data.ymax, \"\\n\")\n",
    "print(\"Nombre de noeuds en axe x :\", data.nbx_nd)\n",
    "print(\"Nombre de noeuds en axe y :\", data.nby_nd)\n",
    "print(\"Nombre d'éléments en axe x :\", data.nbx_el)\n",
    "print(\"Nombre d'éléments en axe y :\", data.nby_el, \"\\n\")\n",
    "print(\"Espace entre les noeuds pour l'axe x :\", data.dx)\n",
    "print(\"Espace entre les noeuds pour l'axe y :\", data.dy, \"\\n\")\n",
    "print(\"Aire d'un élément :\", data.s, \"\\n\")\n",
    "print(\"Origine en axe x :\", data.ox)\n",
    "print(\"Origine en axe y :\", data.oy, \"\\n\")\n",
    "print(\"Origine du puits en axe x :\", data.xw)\n",
    "print(\"Origine du puits en axe y :\", data.yw, \"\\n\")\n",
    "print(\"Id du puits dans une liste de valeur :\", data.id_well)\n",
    "print(\"Id du puits dans une matrice pour l'axe x :\", data.id_well_mesh[0])\n",
    "print(\"Id du puits dans une matrice pour l'axe y :\", data.id_well_mesh[1], \"\\n\")\n",
    "print(\"Matrice de coordonnées de l'axe x :\\n\\n\", data.x, \"\\n\")\n",
    "print(\"Matrice de coordonnées de l'axe y :\\n\", data.y)"
   ]
  },
  {
   "cell_type": "markdown",
   "id": "ad59707a-2c2c-47dc-b826-1d5e4c7e004a",
   "metadata": {},
   "source": [
    "-----------------------------------------------------------------------------------------------------------------------------------------------------------"
   ]
  },
  {
   "cell_type": "markdown",
   "id": "f3c97e7f-68a6-4be7-82d7-3a2b9eb9943a",
   "metadata": {},
   "source": [
    "Le nombre de noeuds (<b>nnodes</b>) et d'éléments (<b>nelements</b>) totaux du maillage sont obtenues par les méthodes suivantes :"
   ]
  },
  {
   "cell_type": "code",
   "execution_count": 44,
   "id": "21c91549-cfea-4bfc-b93a-f6f4af922119",
   "metadata": {},
   "outputs": [],
   "source": [
    "nnodes = doc.getNumberOfNodes()\n",
    "nelements = doc.getNumberOfElements()"
   ]
  },
  {
   "cell_type": "markdown",
   "id": "1ec0ed18-0eb3-4f33-8ac3-98e23533a25d",
   "metadata": {},
   "source": [
    "Les matrices de coordonnées (<b>x</b> et <b>y</b>) des deux axes x et y sont obtenues ainsi :"
   ]
  },
  {
   "cell_type": "code",
   "execution_count": 51,
   "id": "6cfa4486-755b-4ac9-b150-50a7ffdc6bcf",
   "metadata": {},
   "outputs": [],
   "source": [
    "x, y = np.zeros((nnodes,)), np.zeros((nnodes,))\n",
    "for i in range(nnodes):\n",
    "    x[i] = doc.getX(i)\n",
    "    y[i] = doc.getY(i)"
   ]
  },
  {
   "cell_type": "markdown",
   "id": "62852473-e177-4e10-94ad-078114bdb456",
   "metadata": {},
   "source": [
    "Les valeurs minimum (<b>xmin</b> et <b>ymin</b>) et maximum (<b>xmax</b> et <b>ymax</b>) des deux axes x et y sont obtenues ainsi :"
   ]
  },
  {
   "cell_type": "code",
   "execution_count": 52,
   "id": "3d22e16e-a979-40fb-a9c9-cdf451ad0f71",
   "metadata": {},
   "outputs": [],
   "source": [
    "xmin, xmax = np.min(x), np.max(x)\n",
    "ymin, ymax = np.min(y), np.max(y)"
   ]
  },
  {
   "cell_type": "markdown",
   "id": "ffed6a8a-27d2-4bd7-9e90-f084169dbc7e",
   "metadata": {},
   "source": [
    "Les valeurs des espaces entres les noeuds (<b>dx</b> et <b>dy</b>), le nombre d'éléments (<b>nbx_el</b> et <b>nby_el</b>) et de noeuds (<b>nbx_nd</b> et <b>nby_nd</b>) par axe, ainsi que la surface d'une cellule (<b>s</b>) sont obtenues de la manière suivante :"
   ]
  },
  {
   "cell_type": "code",
   "execution_count": 59,
   "id": "ad7544fb-4182-48bf-91f3-b6009d6018a1",
   "metadata": {},
   "outputs": [],
   "source": [
    "dx = x[1] - x[0]\n",
    "nbx_el = int(np.round( (xmax - xmin)/dx ))\n",
    "dy = y[0] - y[nbx_el + 1]\n",
    "nby_el = int(np.round( (ymax - ymin)/dy ))\n",
    "s = dx*dy\n",
    "nbx_nd, nby_nd = nbx_el + 1, nby_el + 1"
   ]
  },
  {
   "cell_type": "markdown",
   "id": "a2ba8e52-7118-475a-9a26-f6b4ff263450",
   "metadata": {},
   "source": [
    "Les valeurs de l'origine du maillage (<b>ox</b> et <b>oy</b>) du fichier Feflow sont obtenues en utilisant les méthodes suivantes :"
   ]
  },
  {
   "cell_type": "code",
   "execution_count": 60,
   "id": "20059abc-b434-416c-9aa6-2a0c022f38c0",
   "metadata": {},
   "outputs": [],
   "source": [
    "ox, oy = doc.getOriginX(), doc.getOriginY()"
   ]
  },
  {
   "cell_type": "markdown",
   "id": "9e916e4c-2633-4c14-837f-dae459ed300b",
   "metadata": {},
   "source": [
    "Les valeurs caractéristique du puits retrouvé dans le maillage sont obtenues ainsi :"
   ]
  },
  {
   "cell_type": "code",
   "execution_count": 61,
   "id": "3ff48f0e-f7c8-469b-bed0-2f24b6281e3e",
   "metadata": {},
   "outputs": [],
   "source": [
    "qw = float( str( doc.createWellManager().getWells()[0].getPropertyValue(8) ).split('[')[0] )\n",
    "xw = int(float(str( doc.createWellManager().getWells()[0].getPropertyValue(3)).split(' ')[0]))\n",
    "yw = int(float(str( doc.createWellManager().getWells()[0].getPropertyValue(4)).split(' ')[0])) "
   ]
  },
  {
   "cell_type": "markdown",
   "id": "91fe5d38-a118-4af5-9e7b-1483642dc358",
   "metadata": {},
   "source": [
    "Les différents ID du puits selon l'utilisation d'une liste (<b>id_well</b>) ou selon l'utilisation d'une matrice (<b>id_well_mesh</b>) sont obtenues de la manière suivante :"
   ]
  },
  {
   "cell_type": "code",
   "execution_count": null,
   "id": "e36427f1-e913-418a-9722-61837a43a70c",
   "metadata": {},
   "outputs": [],
   "source": [
    "for i in range(self.nnodes):\n",
    "    if int( self.x[i] ) == self.xw and int( self.y[i] ) == self.yw:\n",
    "        self.id_well = i\n",
    "\n",
    "for i in range(287):\n",
    "    for j in range(123):\n",
    "        if int(self.x[i][j])==int(self.xw) and int(self.y[i][j])==int(self.yw):\n",
    "            self.id_well_mesh = [i,j]"
   ]
  },
  {
   "cell_type": "markdown",
   "id": "a105e712-0046-45ec-901a-91d3136665be",
   "metadata": {},
   "source": [
    "-----------------------------------------------------------------------------------------------------------------------------------------------------------"
   ]
  },
  {
   "cell_type": "markdown",
   "id": "2d5be675-6296-40d0-ad6c-4097b1c5ebaf",
   "metadata": {},
   "source": [
    "#### 3. Variables pour calculer les coefficients pour la comparaison des résultats"
   ]
  },
  {
   "cell_type": "markdown",
   "id": "d431ea6b-59fa-4451-86b2-b11fff72d9f2",
   "metadata": {},
   "source": [
    "Ce groupe de variables permet le stockage temporelle des valeurs obtenues pour chaque coefficients permettant de caractériser une aire d'alimentation. On retrouve la surface de l'aire d'alimentation ($A_{zu}$) mesuré en hectard, le coefficient d'efficacité ($\\eta$) qui est expliqué dans le fichier ..., puis le nombre de noeuds pris en compte pour délimiter l'aire d'alimentation ($\\tau$)."
   ]
  },
  {
   "cell_type": "code",
   "execution_count": 66,
   "id": "5ca3d02c-8ebe-4483-9a33-27b4e3f98392",
   "metadata": {},
   "outputs": [],
   "source": [
    "n = 55.55\n",
    "tau = 3130\n",
    "a_zu = tau * s / 10000"
   ]
  },
  {
   "cell_type": "markdown",
   "id": "5199499b-ec89-4633-9f15-1eb3cef2412e",
   "metadata": {},
   "source": [
    "-----------------------------------------------------------------------------------------------------------------------------------------------------------"
   ]
  },
  {
   "cell_type": "markdown",
   "id": "1ca45db1-bef6-4a11-b6b3-9ea8bb477a08",
   "metadata": {},
   "source": [
    "#### 4. Variables pour stocker les champs de valeurs des paramètres"
   ]
  },
  {
   "cell_type": "markdown",
   "id": "b9d2e72f-a88f-4a31-8092-1e3233e9cd1d",
   "metadata": {},
   "source": [
    "Ce groupe de variables permet le stockage des champs de valeurs des paramètres (conductivité hydraulique et recharge en eau souterraine). En premier, il y a <b>r_matrix</b> et <b>k_matrix</b> qui sont les champs de valeurs de références pour les calculs déterministes et stochastiques. Pour avoir ces champs de référence, il faut utiliser la méthode get_params() expliquée dans le fichier ... ."
   ]
  },
  {
   "cell_type": "code",
   "execution_count": 108,
   "id": "37ca2867-e3be-45a4-9b66-6a08ff181372",
   "metadata": {},
   "outputs": [
    {
     "data": {
      "image/png": "[encoded data removed]",
      "text/plain": [
       "<Figure size 640x480 with 2 Axes>"
      ]
     },
     "metadata": {},
     "output_type": "display_data"
    },
    {
     "data": {
      "image/png": "[encoded data removed]",
      "text/plain": [
       "<Figure size 640x480 with 2 Axes>"
      ]
     },
     "metadata": {},
     "output_type": "display_data"
    }
   ],
   "source": [
    "data.get_params()\n",
    "\n",
    "plt.contourf(data.x, data.y, data.k_matrix)\n",
    "plt.xlabel('x [m]')\n",
    "plt.ylabel('y [m]')\n",
    "plt.title(\"Champs de valeur de référence du logarithme\\ndécimal de la conductivité hydraulique\\n\")\n",
    "plt.colorbar().set_label('[log(m/d)]')\n",
    "plt.plot(data.xw, data.yw, 'o', color='black', markersize=3)\n",
    "plt.axis([data.xmin, data.xmax, data.ymin, data.ymax])\n",
    "plt.gca().set_aspect('equal', adjustable='box')\n",
    "plt.xticks((1000, 2000, 3000, 4000))\n",
    "plt.show()\n",
    "\n",
    "plt.contourf(data.x, data.y, data.r_matrix*365*1000)\n",
    "plt.xlabel('x [m]')\n",
    "plt.ylabel('y [m]')\n",
    "plt.title(\"Champs de valeur de référence de la\\nrecharge en eau souterraine\\n\")\n",
    "plt.colorbar().set_label('[mm/an]')\n",
    "plt.plot(data.xw, data.yw, 'o', color='black', markersize=3)\n",
    "plt.axis([data.xmin, data.xmax, data.ymin, data.ymax])\n",
    "plt.gca().set_aspect('equal', adjustable='box')\n",
    "plt.xticks((1000, 2000, 3000, 4000))\n",
    "plt.show()"
   ]
  },
  {
   "cell_type": "markdown",
   "id": "e481e6f6-e64d-4f33-a7e9-73bd146fe0ef",
   "metadata": {},
   "source": [
    "Les paramètres <b>r_mean</b> et <b>k_mean</b> sont les moyennes de chaque champs présenté ci-dessus. Pour la recharge moyenne, un calcul par la moyenne arithémtique est faite, contrairement à une moyenne géométrique pour la conductivité hydraulique moyenne. Cela se défini théoriquement ainsi :\n",
    "\n",
    "<ul>\n",
    "    <li>$r_{mean}~~=~~\\sum_{i=1}^{N} r_{i}$</li>\n",
    "    <br>\n",
    "    <li>$k_{mean}~~=~~\\frac{1}{N}\\sum_{i=1}^{N} log_{10}(k_{i})$</li>\n",
    "</ul>\n",
    "\n",
    "Numériquement, il existe des méthodes pour faire ces calculs de moyennes, et sont les suivantes :"
   ]
  },
  {
   "cell_type": "code",
   "execution_count": 115,
   "id": "a4caf4ee-10d7-4738-a3a4-17db15ef0baa",
   "metadata": {},
   "outputs": [],
   "source": [
    "r_mean = np.mean(data.r_matrix, axis=None)\n",
    "k_mean = gmean(data.k_matrix, axis=None)"
   ]
  },
  {
   "cell_type": "markdown",
   "id": "f49c927c-ded4-4427-a3be-d755426ae225",
   "metadata": {},
   "source": [
    "Enfin, pour ce qui est des paramètres considérés dans le modèle numérique et qui permettra par la suite d'obtenir les résultats, nous avons l'épaisseur de l'aquifère (<b>b</b>) et la porosité (<b>poro</b>). Comme l'aquifère dans le modèle est de type libre, il faut pouvoir calculer l'épaisseur selon la manière suivante : \n",
    "\n",
    "<ul>\n",
    "    <li>$b$ = $z_{top}$ - $z_{bottom}$</li>\n",
    "</ul>\n",
    "où $z_{top}$ est la hauteur du sommet de l'aquifère et $z_{bottom}$ la hauteur de sa base. Concernant la porosité, elle est défini comme l'emmagasinement spécifique et est défini directement dans le fichier Feflow.\n",
    "\n",
    "Les valeurs de ces deux paramètres sont trouvables dans la variable <b>doc</b> en utilisant les méthodes suivantes à partir d'ID que le module <u>ifm</u> contient :"
   ]
  },
  {
   "cell_type": "code",
   "execution_count": 116,
   "id": "6037a949-f375-422f-b904-17ef723dd701",
   "metadata": {},
   "outputs": [],
   "source": [
    "b = doc.getParamValue(108, 0) - doc.getParamValue(106, 0)\n",
    "poro = doc.getParamValue(201, 0)"
   ]
  },
  {
   "cell_type": "markdown",
   "id": "554e43d7-cc28-42ac-a2f3-600576cf8659",
   "metadata": {},
   "source": [
    "#### 5. Variables pour caractériser le type de variogramme utilisé et les données conditionantes dans les simulations aléatoires des champs de paramètres"
   ]
  },
  {
   "cell_type": "markdown",
   "id": "b0798e74-cc27-443d-a699-57c8b50a4415",
   "metadata": {},
   "source": [
    "Ce groupe de variables est très important, car il détermine comment les simulations aléatoires de champs de valeurs sont faites. Ces simulations se basent sur le principe de simulation gaussienne séquentielle, un algorithme stochastique permettant de générer des réalisations de données grâce à des fonctions multigaussiennes créé dans les années 80 par le groupe de André Journel à l'université de Stanford en Angleterre. Ces générations de données sont faites avec le module Geone (https://github.com/randlab/geone). Pour cela, il faut définir un type de variogramme (<b>el</b>) contenant son type, son sill et le degré d'anisotropie. La variable <b>alpha</b> correspond à l'angle d'anisotropie souhaités.\n",
    "\n",
    "Concernant les données conditionnantes, le programme ZuPer contient deux variables, l'une pour la position du maillage (<b>pos_cond</b>) et l'autre pour la valeur du paramètre (<b>val_cond</b>) à la position souhaitée. Ce sont les deux des listes Python. Le fonctionnement des données conditionnantes sont trouvable dans l'exemple ... ."
   ]
  },
  {
   "cell_type": "code",
   "execution_count": 4,
   "id": "67f476a9-8eaf-4f59-a61d-e58f8aa8b5e0",
   "metadata": {},
   "outputs": [],
   "source": [
    "el = [('spherical', {'w':0.25, 'r':[1300, 1300]})]\n",
    "alpha = 0\n",
    "\n",
    "pos_cond = []\n",
    "val_cond = []"
   ]
  },
  {
   "cell_type": "markdown",
   "id": "33c16c1b-5911-4460-93db-a954b0cab7d8",
   "metadata": {},
   "source": [
    "#### 6. Variables pour stocker les résultats"
   ]
  },
  {
   "cell_type": "markdown",
   "id": "1be4cc2e-ab9f-493e-b220-4db58930ce26",
   "metadata": {},
   "source": [
    "Ce groupe de variable vont permettre de stocker temporellement les données des résultats obtenues durant les calculs des aires d'alimentation. Elles seront ensuite représentées graphiquement avec le module Python <u>matplotlib</u>. Les variables <b>dict_params</b> (pour les paramètres géologie et hydrogéologique) et <b>dict_results</b> (pour les résultats) sont de type \"dictionnaire Python\" pour améliorer la capacité de stockage et la rapidité de manipulation par l'ordinateur. Les résultats stockés sont :\n",
    "\n",
    "<ul>\n",
    "    <li>La conductivité hydraulique</li>\n",
    "    <li>La recharge en eau souterraine</li>\n",
    "    <li>La charge hydraulique</li>\n",
    "    <li>L'âge moyen de l'eau souterraine</li>\n",
    "    <li>L'espérance de vie ou temps de sortie de l'eau souterraine </li>\n",
    "    <li>La probabilité de capture de l'eau souterraine</li>\n",
    "    <li>Les contributions du paysage</li>\n",
    "    <li>La zone Zu</li>\n",
    "</ul>\n",
    "\n",
    "De plus, une variable (<b>dtframe_constant</b>) de type dataFrame, obtenue avec le module Python <u>Pandas</u>, est utilisé pour stocker toutes les paramètres du modèle numérique qui peuvent intervenir dans les simulations numériques avec Feflow pour les calculs des résultats et de la zone Zu."
   ]
  },
  {
   "cell_type": "code",
   "execution_count": null,
   "id": "1b4ce48e-7b27-41f8-8362-be7d8b1c85b8",
   "metadata": {},
   "outputs": [],
   "source": [
    "dict_params = {'perm':[], 'rech':[]}\n",
    "dict_results = {'charge':[], 'age':[], 'exit-time':[], 'probability':[], 'contributions':[], 'zu':[]}\n",
    "\n",
    "dtframe_constant = pds.DataFrame([])"
   ]
  },
  {
   "attachments": {},
   "cell_type": "markdown",
   "id": "0bef43c1-8cf4-4913-9734-145c4fe92177",
   "metadata": {},
   "source": [
    "#### 7. Variables pour l'affichage des graphes\n",
    "\n",
    "Ce dernier groupe de variable permet le stockage d'information pour les représentations graphiques de chaque résultat. Cela regroupe des options d'affichage tel que les noms des paramètres (<b>name_params</b>), des résultats (<b>name_results</b>) pour les dictionnaires et les noms des coefficients (<b>name_coeff</b>) et des données (<b>title</b>) pour les graphes ; les carte de couleur pour chaque donnée (<b>cmap</b>) retrouvées dans le module Python <u>Matplotlib.cm</u> ; les unités de chaque donnée (<b>unity</b>) et leur symbole respectif (<b>symb</b>).\n",
    "\n",
    "La plupart de ces données sont de type liste contenant des chaînes de caractère. Pour ce qui est de <b>symb</b>, ce sont des données de type rawstring pour pouvoir afficher des caractères de typologie cyrilique."
   ]
  },
  {
   "cell_type": "code",
   "execution_count": null,
   "id": "0dedbe3c-61ff-4757-988b-54ef628f1cf1",
   "metadata": {},
   "outputs": [],
   "source": [
    "name_params = ['perm', 'rech']\n",
    "name_results = ['charge', 'age', 'meanlife', 'probability', 'contributions', 'zu', 'concentration_cr', 'concentration_cm']\n",
    "cmap = [cm.viridis, cm.viridis, cm.Oranges, cm.Reds, cm.Blues, cm.Greens, cm.Greys, cm.plasma, cm.viridis, cm.viridis]\n",
    "title = ['permeability', 'recharge', 'charge', 'age', 'exit-time', 'capture probabilities', 'contributions', 'zone Zu', 'Concentration de masse Cr', 'Concentration de masse Cm']\n",
    "unity = ['[-]', '[m/d]', '[m]', '[d]', '[d]', '[-]', '[m3/d]', '[-]', '[mg/L]', '[mg/L]']\n",
    "symb = [r'$\\eta$ [%]', r'$a_{zu}$ [hect]', r'$c_{m}$ [mg/L]', r'$\\rho$ [%]', r'c_{r} [mg/L]']\n",
    "name_coeff = ['Coefficient of efficiency', 'Surface of Zu', 'Concentration Cm', 'Ratio protection', 'Concentration Cr']"
   ]
  }
 ],
 "metadata": {
  "kernelspec": {
   "display_name": "Python 3 (ipykernel)",
   "language": "python",
   "name": "python3"
  },
  "language_info": {
   "codemirror_mode": {
    "name": "ipython",
    "version": 3
   },
   "file_extension": ".py",
   "mimetype": "text/x-python",
   "name": "python",
   "nbconvert_exporter": "python",
   "pygments_lexer": "ipython3",
   "version": "3.12.1"
  }
 },
 "nbformat": 4,
 "nbformat_minor": 5
}
