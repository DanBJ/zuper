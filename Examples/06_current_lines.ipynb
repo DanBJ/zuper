{
 "cells": [
  {
   "cell_type": "markdown",
   "id": "b9298d29-3717-475e-b728-0a3f9b2cfb1e",
   "metadata": {},
   "source": [
    "## Affichage et calcul des lignes de courant de l'eau souterraine"
   ]
  },
  {
   "cell_type": "code",
   "execution_count": null,
   "id": "2d7ceb6c-527e-4a86-8341-e1bba763eb79",
   "metadata": {},
   "outputs": [],
   "source": []
  },
  {
   "cell_type": "code",
   "execution_count": null,
   "id": "02adb769-d228-4d63-b544-16b2721fab76",
   "metadata": {},
   "outputs": [],
   "source": []
  }
 ],
 "metadata": {
  "kernelspec": {
   "display_name": "Python 3 (ipykernel)",
   "language": "python",
   "name": "python3"
  },
  "language_info": {
   "codemirror_mode": {
    "name": "ipython",
    "version": 3
   },
   "file_extension": ".py",
   "mimetype": "text/x-python",
   "name": "python",
   "nbconvert_exporter": "python",
   "pygments_lexer": "ipython3",
   "version": "3.12.1"
  }
 },
 "nbformat": 4,
 "nbformat_minor": 5
}
