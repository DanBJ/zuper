{
 "cells": [
  {
   "cell_type": "markdown",
   "id": "a3156d78-9483-4009-90c2-3f116a799bb3",
   "metadata": {},
   "source": [
    "## <u>Modules in the program</u>"
   ]
  },
  {
   "cell_type": "markdown",
   "id": "5ef42b53-3384-4292-bdb4-c841319b8f4a",
   "metadata": {},
   "source": [
    "Pour commencer, il faut pouvoir importer dans le programme les différentes méthodes et modules Python pour que le programme informatique fonctionne"
   ]
  },
  {
   "cell_type": "code",
   "execution_count": null,
   "id": "cdb7c334-57d2-4651-b544-ca8d8f96b3bd",
   "metadata": {},
   "outputs": [],
   "source": [
    "import numpy as np\n",
    "import matplotlib.pyplot as plt\n",
    "import ifm as ifm\n",
    "\n",
    "import geone as gn\n",
    "import pandas as pds\n",
    "import scipy as sp\n",
    "import geopandas as gpd\n",
    "\n",
    "from scipy.stats import gmean\n",
    "from tqdm import tqdm\n",
    "from matplotlib import cm\n",
    "from matplotlib.colors import ListedColormap\n",
    "from scipy import interpolate\n",
    "from scipy.integrate import solve_ivp\n",
    "from scipy.optimize import root_scalar\n",
    "from shapely.geometry import Polygon\n",
    "from scipy.optimize import minimize"
   ]
  },
  {
   "cell_type": "markdown",
   "id": "b7c83bfd-96f3-41fb-b069-ab151a971188",
   "metadata": {},
   "source": [
    "Si le programme ZuPer est utilisé dans un fichier Python avec l'environnement IPython (retrouvé par exemple dans le logiciel de développement <i>Spyder</i>), le code suivant est à utiliser pour remplacer la commande pour importer le module <u>ifm</u>"
   ]
  },
  {
   "cell_type": "code",
   "execution_count": null,
   "id": "6fefc604-ff22-4eca-805f-f4a1ce3185f3",
   "metadata": {},
   "outputs": [],
   "source": [
    "# import sys\n",
    "# sys.path.append(r\"C:\\\\Program Files\\\\DHI\\\\2024\\\\FEFLOW 8.1\\\\bin64\")\n",
    "# import ifm311 as ifm"
   ]
  },
  {
   "cell_type": "markdown",
   "id": "36d8953c-a3bd-4cf5-be5f-fcf44411cb02",
   "metadata": {},
   "source": [
    "## Create the object"
   ]
  },
  {
   "cell_type": "markdown",
   "id": "07f4cb6f-799a-4862-813b-b6c94580e3f4",
   "metadata": {},
   "source": [
    "Comme le programme ZuPer a été créé avec une classe Python, la première étape de calcul est de construire une variable de type object avec le nom souhaité de la manière suivante en utilisant le nom de la classe"
   ]
  },
  {
   "cell_type": "code",
   "execution_count": null,
   "id": "9d5c0c4b-291d-48af-acd9-43743bf70d79",
   "metadata": {},
   "outputs": [],
   "source": [
    "data = zuper(url_du_fichier)"
   ]
  },
  {
   "cell_type": "markdown",
   "id": "4805e1f3-bb98-4d90-b4a9-193e4793a473",
   "metadata": {},
   "source": [
    "<b>data</b> est la variable qui va contenir l'object ZuPer pour faire les calculs ; <b>zuper</b> le nom de la classe Python du programme informatique ; <b>url_du_fichier</b> le lien url où se site le fichier Feflow.\n",
    "\n",
    "Le lien url est une chaîne de caractère de type rawstring correspondant à l'accès du fichier au travers des dossiers de l'ordinateur. Il faut donc écrire de la manière suivante :"
   ]
  },
  {
   "cell_type": "code",
   "execution_count": null,
   "id": "3bd9c0c4-0267-4f95-ae2d-a7030bedf5e0",
   "metadata": {},
   "outputs": [],
   "source": [
    "url_du_fichier = r'C:\\...'"
   ]
  },
  {
   "cell_type": "markdown",
   "id": "8669b493-93a1-4a5a-9245-3d106db2bf72",
   "metadata": {},
   "source": [
    "Maintenant que les modules ont été importés et que l'object <b>data</b> a été créé, il est temps de commencer à étudier le programme ZuPer plus en détails. Pour continuer suivez l'exemple 02_"
   ]
  }
 ],
 "metadata": {
  "kernelspec": {
   "display_name": "Python 3 (ipykernel)",
   "language": "python",
   "name": "python3"
  },
  "language_info": {
   "codemirror_mode": {
    "name": "ipython",
    "version": 3
   },
   "file_extension": ".py",
   "mimetype": "text/x-python",
   "name": "python",
   "nbconvert_exporter": "python",
   "pygments_lexer": "ipython3",
   "version": "3.12.1"
  }
 },
 "nbformat": 4,
 "nbformat_minor": 5
}
